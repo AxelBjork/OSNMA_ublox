{
  "cells": [
    {
      "cell_type": "markdown",
      "metadata": {
        "id": "0qsWhbybPW-q"
      },
      "source": [
        "## Install dependencies"
      ]
    },
    {
      "cell_type": "code",
      "execution_count": null,
      "metadata": {
        "id": "bHS0RH5AaGeo"
      },
      "outputs": [],
      "source": [
        "%pip install tqdm\n",
        "%pip install pandas\n",
        "%pip install ipywidgets\n",
        "%pip install matplotlib\n",
        "%pip install serial\n",
        "%pip install pyubx2\n",
        "%pip install ecdsa\n",
        "%pip install hmac\n",
        "%pip install ntplib\n",
        "%pip install astropy"
      ]
    },
    {
      "cell_type": "code",
      "execution_count": 1,
      "metadata": {
        "colab": {
          "base_uri": "https://localhost:8080/"
        },
        "id": "g06zVsJ-nVPG",
        "outputId": "8505a0be-5797-4c9d-cd2d-3c68ab824517"
      },
      "outputs": [
        {
          "name": "stdout",
          "output_type": "stream",
          "text": [
            "C:\\Users\\A413626\\Desktop\\GNSS_stuff\\GNSS_Binary\n"
          ]
        }
      ],
      "source": [
        "from serial import Serial\n",
        "from pyubx2 import UBXReader,UBXMessage\n",
        "import csv\n",
        "import numpy as np\n",
        "import pandas as pd\n",
        "from astropy.coordinates import EarthLocation, SkyCoord\n",
        "from astropy import units as u\n",
        "# Plotting and interactive packages\n",
        "from tqdm.notebook import trange, tqdm\n",
        "import matplotlib.pyplot as plt\n",
        "from IPython.display import display, clear_output\n",
        "import ipywidgets as widgets\n",
        "# Cryptographic packages\n",
        "from hashlib import sha256\n",
        "import ecdsa\n",
        "import hmac\n",
        "import base64\n",
        "import socket\n",
        "# Append osnma folder\n",
        "import sys\n",
        "import os\n",
        "# Load internal functions\n",
        "import signal_process\n",
        "import OSNMA\n",
        "import time_mangement\n",
        "\n",
        "#sys.path.append(os.path.abspath(\"C:/Users/A413626/Desktop/GNSS_stuff/GNSS_Binary/OSNMA_Ublox\"))\n",
        "# Change to folder with GNSS logs\n",
        "#%cd C:\\Users\\A413626\\Desktop\\GNSS_stuff\\GNSS_Binary\n",
        "record = True #if True we will save the recorded data (e.g., for future playback)\n",
        "record_filename = '06-04-2022_0.csv'\n",
        "dump=True\n",
        "# U-blox chip configurations\n",
        "COMPort = 'COM4'\n",
        "boudRate = 38400\n",
        "\n",
        "# List of u-blox confiugration options and key value\n",
        "cfgData = [(\"CFG_ITFM_ENABLE\", 1),(\"CFG_ITFM_ANTSETTING\", 2),(\"CFG_NMEA_PROTVER\", 42),\n",
        " (\"CFG_MSGOUT_NMEA_ID_GBS_USB\", 1),(\"CFG_MSGOUT_UBX_MON_RF_USB\", 1),(\"CFG_MSGOUT_UBX_MON_SPAN_USB\", 1),\n",
        " (\"CFG_MSGOUT_UBX_NAV_CLOCK_USB\", 1),(\"CFG_MSGOUT_UBX_NAV_PVT_USB\", 1),(\"CFG_MSGOUT_UBX_NAV_SIG_USB\", 1),\n",
        " (\"CFG_MSGOUT_UBX_NAV_TIMEGAL_USB\", 1),(\"CFG_MSGOUT_UBX_RXM_RAWX_USB\", 1),(\"CFG_MSGOUT_UBX_NAV_STATUS_USB\", 1),\n",
        " (\"CFG_MSGOUT_UBX_RXM_SFRBX_USB\", 1),\n",
        " (\"CFG_SIGNAL_GLO_ENA\", 0), (\"CFG_SIGNAL_QZSS_ENA\", 0),(\"CFG_SIGNAL_BDS_ENA\", 0),(\"CFG_SIGNAL_SBAS_ENA\", 0)\n",
        " ]\n",
        "# Write to RAM\n",
        "layers = 1\n",
        "# No transaction response\n",
        "transaction = 0\n",
        "# Create configuration message\n",
        "config_msg = UBXMessage.config_set(layers, transaction, cfgData)\n",
        "# Stored msg types  # Talker ID GNGGA , GN =any combo, GP = GPS, GA = Galileo\n",
        "msg_types = [\n",
        " '<NMEA(GAGSV', '<NMEA(GNGBS', ['<NMEA(GNGGA','<NMEA(GAGGA','<NMEA(GPGGA'],\n",
        " '<NMEA(GNGLL', '<NMEA(GNVTG', '<NMEA(GPGSV',\n",
        " '<UBX(MON-RF', '<UBX(MON-SPAN', '<UBX(NAV-CLOCK', \n",
        " '<UBX(NAV-PVT', '<UBX(NAV-SIG', '<UBX(NAV-TIMEGAL',\n",
        " '<UBX(RXM-RAWX', '<UBX(NAV-STATUS', '<UBX(RXM-SFRBX']\n",
        "\n",
        "# Load processed u-blox csv data from specified file\n",
        "def load_data (testData):\n",
        " # Initialize lists to store messages\n",
        " mesages=[]\n",
        " msg_collection = [[] for _ in range(len(msg_types))]\n",
        " with open(testData) as csvfile:\n",
        "   parsed_data = csv.reader(csvfile, delimiter=',')\n",
        "   for row in parsed_data:\n",
        "     mesages.append(row[0])\n",
        "     # Check all message types for match\n",
        "     for i in range(len(msg_types)):\n",
        "       if row[0] in msg_types[i]:\n",
        "         if row[0] == '<UBX(RXM-SFRBX' and ' galTow' not in row[2]:\n",
        "           # Add TOW for sub-frame data\n",
        "           galileo_time=msg_collection[11][-1][2]\n",
        "           row.insert(2,galileo_time)\n",
        "         # Add message to its type list\n",
        "         msg_collection[i].append(row)\n",
        "   csvfile.close()\n",
        " return  msg_collection, mesages"
      ]
    },
    {
      "cell_type": "markdown",
      "metadata": {
        "id": "FLXAtZ5sQwnC"
      },
      "source": [
        "## Run OSNMA + Time Handler"
      ]
    },
    {
      "cell_type": "code",
      "execution_count": 3,
      "metadata": {
        "colab": {
          "base_uri": "https://localhost:8080/",
          "height": 1000
        },
        "id": "lYpyAaKR-9PD",
        "outputId": "c480f9d1-1710-496c-e101-b287a9115e38"
      },
      "outputs": [
        {
          "name": "stdout",
          "output_type": "stream",
          "text": [
            " [' agcCnt_01=5265', ' agcCnt_01=5265', ' agcCnt_01=5265', ' agcCnt_01=5265', ' agcCnt_01=5616'] \n",
            " [' jamInd_01=9', ' jamInd_01=7', ' jamInd_01=7', ' jamInd_01=8', ' jamInd_01=11']\n",
            " [' jammingState_01=1', ' jammingState_01=1', ' jammingState_01=1', ' jammingState_01=1', ' jammingState_01=1']\n",
            " [' spoofDetState=1', ' spoofDetState=1', ' spoofDetState=1', ' spoofDetState=1', ' spoofDetState=1']\n",
            " [' clkB=187369', ' clkB=186443', ' clkB=185518', ' clkB=184592', ' clkB=183666']\n",
            " Time: 386473,  iTOW=11:20:55\n",
            " Position: lat=57.70973133 lon=11.94555167\n",
            " \n",
            "Average CNO (L1): 35.9\n",
            "Average Lock duration (L1): 46230.0\n",
            "\n",
            "Satellites Connected:['GPS, 9', 'Galileo, 7']\n",
            " Of which L1/E1: ['GPS, 9', 'Galileo, 7']\n",
            "\n",
            "Filtering (split): Kept 2400/3948 pages, 60.79%\n",
            "Filtering (osnma): Kept 1920/2400 pages, 80.00%\n",
            "Found OSNMA Satellite!\n",
            "['01010010', '01010010', '01010010', '01010010', '01010010', '01010010', '01010010', '01010010', '01010010', '01010010', '01010010', '01010010', '01010010', '01010010', '01010010']\n",
            "Total Satellite Kept: 5/7\n",
            "\n",
            "Found root key in satellite: 19!\n",
            "Locations: [1, 2, 3, 4, 5, 6, 7, 0]\n",
            "Random Pattern: 41590689997730\n",
            "Kroot Key: EF3CCD80B983C49D89AB8E4AC70DC625\n",
            "Root key age: Week: 1179, TOW: 381600\n",
            "OSNMA Digital Signature: 5463B9D1DFF76506C40628DAB6B340AC2E661C35A4776597AC2245F1FDF0BC9D16EFF44BBA41C221028893FEF858780FC4AC476512F0786D3A37AAD0DAA2D2DE\n",
            "Signature Verified: True\n",
            "Result:\n",
            " KROOT Authentication (Correct/Total): 53/59\n",
            " Tag Authentication (Correct/Total): 43/59\n",
            "\n",
            "Current runtime: 709 seconds\n",
            "Last Authenticated TOW: 386462\n",
            "Current Time of Week: 386474\n",
            "Authentication Age: 12 seconds\n",
            "\n",
            "Time Handler ran for 650 Seconds\n",
            "Total NTP requests: 2\n",
            "Valid OSNMA sub-frames: 11\n",
            "GNSS Sync uptime: 50.8%\n",
            "\n"
          ]
        }
      ],
      "source": [
        "import importlib\n",
        "importlib.reload(OSNMA)\n",
        "importlib.reload(time_mangement)\n",
        "importlib.reload(signal_process)\n",
        "\n",
        "\n",
        "# Input file\n",
        "testData = '31-03-2022_osnma_spoofing.csv'\n",
        "#testData = '16-03-2022_spoof_scenarios.csv'\n",
        "#testData = '16-03-2022_2.csv'\n",
        "\n",
        "# Load data\n",
        "msg_collection, mesages= load_data(testData)\n",
        "#msg_collection[14] = msg_collection[14][0:1650]\n",
        "# Read last signal\n",
        "signal_info = signal_process.read_live_data(msg_collection)\n",
        "# Run OSNMA on last 4000 pages\n",
        "osnma_instance, osnma_results = OSNMA.run_osnma(msg_collection,num=15000)\n",
        "# Get duration and run time handler\n",
        "osnma_duration = osnma_instance.get_duration()[0]\n",
        "time_instance, df, time_info,time_fig = time_mangement.run_time(osnma_instance,msg_collection,max_dur=osnma_duration,plot=False)\n",
        "# Print result\n",
        "plt.show()\n",
        "print(signal_info)\n",
        "print(osnma_results)\n",
        "print(time_info)"
      ]
    },
    {
      "cell_type": "markdown",
      "metadata": {
        "id": "167eE_FOypx2"
      },
      "source": [
        "## Real-Time Loop\n"
      ]
    },
    {
      "cell_type": "markdown",
      "metadata": {
        "id": "Q80fV82nvn_j"
      },
      "source": [
        "Main code Loop"
      ]
    },
    {
      "cell_type": "code",
      "execution_count": null,
      "metadata": {
        "colab": {
          "base_uri": "https://localhost:8080/",
          "height": 1000,
          "referenced_widgets": [
            "7ef05d902f67418e92581db8d2d54ff3",
            "28ca3d891ce64a13a6130ad358d120df",
            "20c45bbe30b4438c81ec71c2f66e23be",
            "7eb7eec3fc3b46e681d7826a1f024c98",
            "4aee3d1b4a1d43dbb3534dc53bec4010",
            "1f2f8d4651614d68891f6d67ee2fdcb2",
            "e27fd4be6fc742028a29eac172fb8b94",
            "6b486881a748477a9069fe07fa80bb39",
            "e133c2190dcd418ebac2b7117ee7a302",
            "aad12f042e8c41c0a4bb17c393b23c4c",
            "a23502c53e07455e919b8f5e98fbdaad",
            "32877e7e54ae46fda7be9cd36820e2e1",
            "d8fb4eeac5b849bf8ea1c008cbee8895",
            "164ac38455af4ae4ae2ecf698e7edddb",
            "94773498009b411e94b414e6287c18af",
            "be1ad23abf2543b0a495ed74a8046623",
            "382269fd2c264ffbbb54ec3ac7d39d4c"
          ]
        },
        "id": "dSSQ5ZB0vXvL",
        "outputId": "86e2149d-5495-48e6-e819-b017a2408927"
      },
      "outputs": [],
      "source": [
        "#%cd C:\\Users\\A413626\\Desktop\\GNSS_stuff\\GNSS_Binary\\21-03-2022_data\n",
        "for run in range(1):\n",
        "  #record_filename = '21-03-2022_'+str(run)+'.csv'\n",
        "\n",
        "  mesages=[]\n",
        "  msg_collection = [[] for _ in range(len(msg_types))]\n",
        "  galileo_time = \" galTow=0\"\n",
        "  # Make sure chip is not being used\n",
        "  try:\n",
        "    stream.close()\n",
        "  except:\n",
        "    closed=True\n",
        "\n",
        "  #Num messages to record\n",
        "  num = 60000\n",
        "  max_keep=10000\n",
        "  # Start progress bar\n",
        "  msg_bar = tqdm(total=num)\n",
        "  # Start text dump area\n",
        "  textbox = widgets.Textarea(layout=widgets.Layout(width='50%', height='240px'))\n",
        "  textbox_OSNMA = widgets.Textarea(layout=widgets.Layout(width='50%', height='350px'))\n",
        "  display(textbox,textbox_OSNMA)\n",
        "  # Open stream to u-blox\n",
        "  stream = Serial(COMPort, boudRate, bytesize=8, parity='N', stopbits=1,)\n",
        "  # Send configuration message\n",
        "  stream.write(config_msg.serialize())\n",
        "  # Read stream\n",
        "  ubr = UBXReader(stream)\n",
        "  while(len(mesages)<num):\n",
        "    (raw_data, parsed_data) = ubr.read()\n",
        "    if parsed_data is not None:\n",
        "      ubxPages_new = str(parsed_data).split(\",\")\n",
        "      mesages.append(ubxPages_new[0])\n",
        "      msg_bar.update(1)\n",
        "      # Check all message types for match\n",
        "      for i in range(len(msg_types)):\n",
        "          if ubxPages_new[0] in msg_types[i]:\n",
        "            if ubxPages_new[0] == '<UBX(RXM-SFRBX':\n",
        "              # Add galileo time for OSNMA if availble\n",
        "              galileo_time = msg_collection[11][-1][2] if len(msg_collection[11][-1:]) else \" galTow=0\"\n",
        "              ubxPages_new.insert(2,galileo_time)\n",
        "            # Add message to its type list\n",
        "            msg_collection[i].append(ubxPages_new)\n",
        "            msg_collection[i] = msg_collection[i][-max_keep:]\n",
        "      # Log raw data for later\n",
        "      if record:\n",
        "        with open(record_filename, 'a', newline='') as f:\n",
        "            write = csv.writer(f)\n",
        "            write.writerow(ubxPages_new)\n",
        "            f.close()\n",
        "      if dump and (len(msg_collection[12])>5):\n",
        "        data_dump_str=signal_process.read_live_data(msg_collection)\n",
        "        textbox.value=data_dump_str+\"\\nNumber of Messages: {}\".format(len(msg_collection[8]))\n",
        "        # Check OSNMA every 10 seconds after 100 seconds\n",
        "        gal_time=int(galileo_time.split('=')[1])\n",
        "        if gal_time%10==0 and len(msg_collection[14])>50:\n",
        "          osnma_info = ''\n",
        "          #osnma_instance,osnma_info = run_osnma(msg_collection)\n",
        "          textbox_OSNMA.value = osnma_info\n",
        "  stream.close()\n",
        "  print(\"Got the following messages:\")\n",
        "  for i in range(len(msg_collection)):\n",
        "    print(i,msg_types[i],len(msg_collection[i]))"
      ]
    },
    {
      "cell_type": "code",
      "execution_count": null,
      "metadata": {
        "id": "7Nv_HyjYxHwh"
      },
      "outputs": [],
      "source": [
        "stream.close()"
      ]
    },
    {
      "cell_type": "markdown",
      "metadata": {
        "id": "GfsY5mx-m2cC"
      },
      "source": [
        "## View messages received"
      ]
    },
    {
      "cell_type": "code",
      "execution_count": null,
      "metadata": {},
      "outputs": [],
      "source": [
        "print(\"Got the following messages:\")\n",
        "for i in range(len(msg_collection)):\n",
        "  print(i,msg_types[i],len(msg_collection[i]))"
      ]
    },
    {
      "cell_type": "code",
      "execution_count": null,
      "metadata": {
        "id": "I6OfAZJZaW8Z"
      },
      "outputs": [],
      "source": [
        "# Look for new messages\n",
        "msg_df=pd.DataFrame(mesages)\n",
        "msg_df.columns=['msg']\n",
        "df_split=msg_df.groupby(\"msg\")\n",
        "df_groups=df_split[\"msg\"].count()\n",
        "msg_types_found=list(df_groups.index)\n",
        "msg_types_found\n",
        "for i in range(len(msg_collection)):\n",
        "  print(i,msg_types[i],len(msg_collection[i]))\n",
        "msg_types_found"
      ]
    },
    {
      "cell_type": "markdown",
      "metadata": {},
      "source": [
        "## Create Position Log"
      ]
    },
    {
      "cell_type": "code",
      "execution_count": null,
      "metadata": {},
      "outputs": [],
      "source": [
        "pos_df = signal_process.get_pos_log(msg_collection)\n",
        "auth_pos_df= signal_process.auth_positions (pos_df,osnma_instance)\n",
        "#auth_pos_df = auth_pos_df.set_index('Time')\n",
        "auth_pos_df\n"
      ]
    },
    {
      "cell_type": "code",
      "execution_count": null,
      "metadata": {},
      "outputs": [],
      "source": [
        "fig, axes = plt.subplots(2, 1)\n",
        "\n",
        "#auth_pos_df['Travelled [m]'].plot(kind='bar', color='darkblue',ax=axes[0]) #, logy=True\n",
        "\n",
        "axes[0].set_title('Vehicle Motion Monitoring', fontweight =\"bold\")\n",
        "\n",
        "auth_pos_df['Travelled [m]'].plot(kind='line', marker='.', color='darkblue', ms=10,ax=axes[0]) #marker size\n",
        "auth_pos_df['Velocity [km/h]'].plot(kind='line',color='darkgreen',ax=axes[1])\n",
        "\n",
        "axes[0].set_ylabel('Gnss Distance [meter]')\n",
        "axes[1].set_ylabel('Gnss Speed [km/h]')\n",
        "\n",
        "plt.show()"
      ]
    },
    {
      "cell_type": "code",
      "execution_count": null,
      "metadata": {},
      "outputs": [],
      "source": [
        "msg_collection[2][10:13][1000:]\n",
        "[msg_collection[2][i][6] for i in range(len(msg_collection[2]))][1000:]"
      ]
    },
    {
      "cell_type": "markdown",
      "metadata": {
        "id": "hAJ8-orhhtOE"
      },
      "source": [
        "## Messages to monitor\n",
        "Parameters to measure according to EUR-Lex - 32021R1228 - EN\n",
        "\n",
        "\n",
        "\n",
        "1.   Automatic Gain Control (AGC) from - MON-RF\n",
        "2.   (Average) Carrier to noise (CNO) from - RXM-RAWX\n",
        "3.   Pseudorange and doppler measurement consistency from - RXM-RAWX\n",
        "4.   RAIM status from - NMEA-Standard-GBS\n",
        "5.   Position and velocity consistency from - NAV-PVT\n",
        "6.   Time from: rcvToW from RXM-RAWX; galTow (Gallileo) and iTOW (gps) from UBX-NAV-TIMEGAL; iTOW, other estimates from NAV-CLOCK\n",
        "\n",
        "\n",
        "\n"
      ]
    },
    {
      "cell_type": "code",
      "execution_count": null,
      "metadata": {},
      "outputs": [],
      "source": [
        "# Message type, parameter index\n",
        "p_map = [(11,2),(11,6),(11,-1),(6,11),(6,25),(6,12),(6,5),(13,11),(8,2),(12,1),(2,1),(2,2),(2,4),(2,9)] # (11,-1) Tacc, awkward format\n",
        "raw_metrics = []\n",
        "for loc in p_map:\n",
        "    # Extract raw param from message collection\n",
        "    raw_param = [msg_collection[loc[0]][i][loc[1]] for i in range(len(msg_collection[loc[0]]))]\n",
        "    #raw_param = raw_param[80:]\n",
        "    # Convert to float value\n",
        "    #raw_param = [float(raw_param[i].split('=')[1]) for i in range(len(raw_param))]\n",
        "    # Add to parsed metrics\n",
        "    raw_metrics.append(raw_param)\n",
        "[galTOW, galTOW_valid, Tacc, AGC_L1, AGC_L5, jam_ind, jam_state, spoof_state,\n",
        " iTOW_bias, rcvToW, pos_time, lat_pos, lon_pos, alt_pos\n",
        " ] = raw_metrics"
      ]
    },
    {
      "cell_type": "code",
      "execution_count": null,
      "metadata": {
        "colab": {
          "base_uri": "https://localhost:8080/"
        },
        "id": "poxu7nVnvuid",
        "outputId": "7ff33b30-efc7-413a-d5c1-cbe34b80bf9b"
      },
      "outputs": [],
      "source": [
        "\n",
        "data_metrics = [AGC_L1,jam_ind,jam_state,spoof_state,iTOW_bias,rcvToW]\n",
        "parsed_metrics = []\n",
        "for metric in data_metrics:\n",
        "  #metric = metric[80:]\n",
        "  metric_data = [float(metric[i].split('=')[1]) for i in range(len(metric))]\n",
        "  #metric_data = metric[i].split('=')[1]\n",
        "  parsed_metrics.append(metric_data)\n",
        "  print(metric_data[-1])\n",
        "  y_axis= metric[0].split('=')[0]\n",
        "  fig = plt.figure(dpi=150)\n",
        "  ax = fig.add_subplot(1, 1, 1) \n",
        "  plt.rcParams['figure.dpi'] = 200\n",
        "  font = {'family' : 'DejaVu Sans',\n",
        "        'weight' : 'normal',\n",
        "        'size'   : 9}\n",
        "  plt.rc('font', **font)\n",
        "  ax.plot(metric_data)\n",
        "  ax.set_title('Signal performance metric:'+y_axis, fontweight =\"bold\")\n",
        "  ax.set_xlabel('Time [sec]')\n",
        "  ax.set_ylabel(y_axis)\n",
        "  if y_axis == \" clkB\":\n",
        "    y_range= [-1500000,1500000]\n",
        "    ax.set_ylim(y_range)\n",
        "  plt.show()\n",
        "\n",
        "#fix clock bias over/underflow\n",
        "clkbias=np.array(parsed_metrics[4])\n",
        "clkbias[clkbias > 1e6] = 1e6\n",
        "clkbias[clkbias < -1e6] = -1e6\n",
        "parsed_metrics[4] = list(clkbias)"
      ]
    },
    {
      "cell_type": "code",
      "execution_count": null,
      "metadata": {
        "id": "CK4XSUkqrwQR"
      },
      "outputs": [],
      "source": [
        "# 4. \n",
        "# Most likely failed satellite: \n",
        "svid_fail = [msg_collection[1][i][5] for i in range(len(msg_collection[1]))]\n",
        "#Get stdv of bias [8], and bias [7]\n",
        "bias = [msg_collection[1][i][7] for i in range(len(msg_collection[1]))]\n",
        "bias_stddev = [msg_collection[1][i][7] for i in range(len(msg_collection[1]))]\n",
        "# Constellation\n",
        "raim_systemID = [msg_collection[1][i][-2] for i in range(len(msg_collection[1]))]\n",
        "svid_fail"
      ]
    },
    {
      "cell_type": "markdown",
      "metadata": {
        "id": "e_H8f2aHKAmm"
      },
      "source": [
        "## U-blox Spetrum analyzer"
      ]
    },
    {
      "cell_type": "code",
      "execution_count": null,
      "metadata": {
        "colab": {
          "base_uri": "https://localhost:8080/",
          "height": 985
        },
        "id": "RIzVf33XofKz",
        "outputId": "447215f8-45fd-4a9c-bf7a-6e9931c005d6"
      },
      "outputs": [],
      "source": [
        "def fix_spectrum_format(spectrum):\n",
        "  spectrum=''.join(spectrum)\n",
        "  spectrum=spectrum.split('=')\n",
        "  # Fix formating of spectrum array\n",
        "  row=spectrum[0].split(' ')\n",
        "  spectrum[0]=row[1]\n",
        "  row=spectrum[1].split(' ')\n",
        "  row=row[0:-1]\n",
        "  row[0]=row[0][1:]\n",
        "  row[-1]=row[-1][0:-1]\n",
        "  # Convert span data to numpy array\n",
        "  spectrum[1]=np.array(row,dtype=int)\n",
        "  parameter = ['span','res','center','pga']\n",
        "  for i in range(len(spectrum[2:-1])):\n",
        "    value=spectrum[i+2].split(' ')[0]\n",
        "    spectrum[i+2] = parameter[i]+'='+str(value)\n",
        "  return spectrum\n",
        "\n",
        "# Extract spectrum from MON-SPAN\n",
        "processed_span_L1=[]\n",
        "processed_span_L5=[]\n",
        "for i in range(len(msg_collection[7])):\n",
        "  spectrum_1=msg_collection[7][i][4:265]\n",
        "  spectrum_2=msg_collection[7][i][265:]\n",
        "  # Fix format function\n",
        "  spectrum_1=fix_spectrum_format(spectrum_1)\n",
        "  spectrum_2=fix_spectrum_format(spectrum_2)\n",
        "  # Add to list\n",
        "  processed_span_L1.append(spectrum_1)\n",
        "  processed_span_L5.append(spectrum_2)\n",
        "\n",
        "# Check linear gain\n",
        "pga_gain= [processed_span_L1[i][5] for i in range(len(processed_span_L1))]\n",
        "# signal\n",
        "span_2d_L1= [processed_span_L1[i][1] for i in range(len(processed_span_L1))]\n",
        "span_2d_L1=np.array(span_2d_L1)\n",
        "span_2d_L5= [processed_span_L5[i][1] for i in range(len(processed_span_L5))]\n",
        "span_2d_L5=np.array(span_2d_L5)\n",
        "\n",
        "plt.rcParams['figure.dpi'] = 250\n",
        "plt.rcParams[\"figure.figsize\"] = [6.0, 4.0] \n",
        "fig, (ax1, ax2) = plt.subplots(1, 2)\n",
        "\n",
        "# L1 signal parameters\n",
        "signal_info=processed_span_L1[0]\n",
        "print(signal_info[5])\n",
        "span=int(signal_info[2].split('=')[1])/10**6\n",
        "center=int(signal_info[4].split('=')[1])/10**6\n",
        "signal_range=[center-span/2,center+span/2]\n",
        "dx, dy = 0.5, 1\n",
        "y, x = np.mgrid[slice(0, len(processed_span_L1), dy),\n",
        "                slice(signal_range[0], signal_range[1], dx)]\n",
        "L1_x=x             \n",
        "# Plot L1\n",
        "ax1.pcolormesh(x,y,span_2d_L1)\n",
        "ax1.set_title('U-blox L1 signal', fontweight =\"bold\")\n",
        "ax1.set_xlabel('Frequency [MHz]')\n",
        "ax1.set_ylabel('Time Step [sec]')\n",
        "# L5 signal parameters\n",
        "signal_info=processed_span_L5[0]\n",
        "# Span and center in MHz\n",
        "span=int(signal_info[2].split('=')[1])/10**6\n",
        "center=int(signal_info[4].split('=')[1])/10**6\n",
        "signal_range=[center-span/2,center+span/2]\n",
        "dx, dy = 0.5, 1\n",
        "y, x = np.mgrid[slice(0, len(processed_span_L5), dy),\n",
        "                slice(signal_range[0], signal_range[1], dx)]\n",
        "# Plot L5\n",
        "ax2.pcolormesh(x,y, span_2d_L5)\n",
        "ax2.set_title('U-blox L5 signal', fontweight =\"bold\")\n",
        "ax2.set_xlabel('Frequency [MHz]')\n",
        "\n",
        "# Show Plot\n",
        "plt.show()"
      ]
    },
    {
      "cell_type": "code",
      "execution_count": null,
      "metadata": {
        "colab": {
          "base_uri": "https://localhost:8080/",
          "height": 918
        },
        "id": "YtD9cfwaNdQb",
        "outputId": "c4aed528-620f-4ad7-eaab-fcf20878251a"
      },
      "outputs": [],
      "source": [
        "#signal_1 = span_2d_L1[306] # spoofed\n",
        "#signal_2 = span_2d_L1[1124] # observed\n",
        "#signal_3 = span_2d_L1[900] # normal\n",
        "\n",
        "#plt.plot(L1_x[0][50:200],signal_1[50:200], alpha=0.5, label = \"Lab Spoofing Signal\")\n",
        "#plt.plot(L1_x[0][50:200],signal_2[50:200], alpha=1, label = \"Observed Signal\")\n",
        "#plt.plot(L1_x[0][50:200],signal_3[50:200], alpha=0.8, label = \"Baseline Signal\")\n",
        "\n",
        "plt.xlabel('Frequency [MHz]')\n",
        "plt.ylabel('Spectral Density [0-255]')\n",
        "plt.legend()\n",
        "plt.show()\n"
      ]
    },
    {
      "cell_type": "markdown",
      "metadata": {
        "id": "mOoqMf8gK_Em"
      },
      "source": [
        "## Satellite Measurements (RXM - RAWX)"
      ]
    },
    {
      "cell_type": "code",
      "execution_count": null,
      "metadata": {
        "colab": {
          "base_uri": "https://localhost:8080/",
          "height": 837
        },
        "id": "4De7b-ov3nBv",
        "outputId": "cd51f7ee-fb9d-4ec0-c28c-f31a373e7047"
      },
      "outputs": [],
      "source": [
        "# Create dataframe to hold all messages\n",
        "coloum_header= ['run_time','rcTOW','prMes_01', 'cpMes_01', 'doMes_01', 'gnssId_01', 'svId_01', 'reserved2_01',\n",
        " 'freqId_01', 'locktime_01', 'cno_01', 'prStd_01', 'cpStd_01', 'doStd_01',\n",
        " 'prValid_01', 'cpValid_01', 'halfCyc_01', 'subHalfCyc_01']\n",
        "temp_row_list= []\n",
        "for i in range(len(msg_collection[12])-10):\n",
        "    [rawx_header,rawx_sats]=signal_process.rawx_struct(msg_collection[12][i])\n",
        "    # Get msg time\n",
        "    rcTOW=round(float(rawx_header[1].split('=')[1]))\n",
        "    # iterate through sat channels\n",
        "    for sat in rawx_sats:\n",
        "      # Extract sat parameters\n",
        "      sat_row = [row.split('=')[1] for row in sat]\n",
        "      sat_row[:3] = [float(value) for value in sat_row[:3]]\n",
        "      sat_row[4:] = [int(value) for value in sat_row[4:]]\n",
        "      sat_row.insert(0,rcTOW)\n",
        "      sat_row.insert(0,i)\n",
        "      # Append values to last row\n",
        "      temp_row_list.append(sat_row)\n",
        "rawx_df_all=pd.DataFrame(temp_row_list,columns=coloum_header)\n",
        "# Keep only L1 signals\n",
        "rawx_df=rawx_df_all[rawx_df_all['reserved2_01']==0].reset_index(drop=True)\n",
        "# Split by unique sat (constellation, sv_id)\n",
        "df_split=rawx_df.groupby(['gnssId_01','svId_01'])\n",
        "group_keys=df_split['gnssId_01'].nunique()\n",
        "group_keys=list(group_keys.index)\n",
        "\n",
        "# Create dataframe header for processed metrics\n",
        "coloum_header= ['Time since start(sec)','Receiver TOW [Min]','Satellite Count','Galileo Count','Average Lock Time [sec]',\n",
        "                'Average CNO Ratio','Mean Psuedorange Stdv [meter]', 'avg_doStd','Spoof Detect State', 'Clock Bias [0.1 ms]',\n",
        "                'Jamming Indiator [0-255]', 'Jamming State','L1 Automatic Gain Control [dB]']\n",
        "# Collect time step statistics\n",
        "temp_row_list = []\n",
        "for step in range(len(msg_collection[12])-10):\n",
        "  # Filter df for all rows matching time step\n",
        "  rawx_df_step=rawx_df[rawx_df['run_time']==step]\n",
        "  if not rawx_df_step.empty:\n",
        "    # Extract Receiver time for time step\n",
        "    perceived_time = rawx_df_step['rcTOW'].values[0] /60 #/60 #change all min to hour in plots!\n",
        "    # Satellites Connected\n",
        "    sat_count = len(rawx_df_step)\n",
        "    # Galileo Satellites Connected\n",
        "    galileo_count = len(rawx_df_step[rawx_df_step['gnssId_01']=='Galileo'])\n",
        "    # Average lock duration of connected satellites\n",
        "    avg_lock_time=round(rawx_df_step['locktime_01'].mean())//1000\n",
        "    # Average carrier to noise of connected satellites\n",
        "    avg_CNO=round(rawx_df_step['cno_01'].mean(),1)\n",
        "    # Standard deviation of pseudo range\n",
        "    pseudo_std=round(rawx_df_step['prStd_01'].mean(),1)\n",
        "    # Standard deviation of doppler measurement\n",
        "    doppler_std=round(rawx_df_step['doStd_01'].mean(),1)\n",
        "    # Spoof detection state\n",
        "    spoof_det = parsed_metrics[3][step]\n",
        "    # clock bias (ms)\n",
        "    clk_bias = parsed_metrics[4][step] /1e5\n",
        "    # Jamming indicator\n",
        "    jam_ind_step = parsed_metrics[1][step]\n",
        "    # Jam state\n",
        "    jam_state = abs(parsed_metrics[2][step]-1)*15\n",
        "    # Automatic gain control (L1)\n",
        "    agc_L1 = parsed_metrics[0][step] /8191 * 60 +6\n",
        "    # Assembly row\n",
        "    time_step_stats = [step, perceived_time,sat_count,galileo_count,avg_lock_time,avg_CNO,pseudo_std,doppler_std,spoof_det,clk_bias,jam_ind_step,jam_state,agc_L1]\n",
        "    # Add to temp list\n",
        "    temp_row_list.append(time_step_stats)\n",
        "rawx_stats=pd.DataFrame(temp_row_list,columns=coloum_header)\n",
        "# Adjust time zero axis\n",
        "rawx_stats[\"Receiver TOW [Min]\"]  = rawx_stats[\"Receiver TOW [Min]\"] - rawx_stats[\"Receiver TOW [Min]\"].min()\n",
        "# Plot data\n",
        "font = {'family' : 'DejaVu Sans',\n",
        "        'weight' : 'normal',\n",
        "        'size'   : 7}\n",
        "plt.rc('font', **font)\n",
        "#plt.rcParams[\"figure.figsize\"] = [6.0, 4.0] \n",
        "plt.rcParams[\"figure.figsize\"] = [6.0, 2.0] \n",
        "plt.rcParams['figure.dpi'] = 220\n",
        "rawx_stats[['Receiver TOW [Min]','Average Lock Time [sec]','Average CNO Ratio','Satellite Count','Mean Psuedorange Stdv [meter]','Clock Bias [0.1 ms]']].plot()\n",
        "plt.title('U-blox L1 Signal Metrics', fontweight =\"bold\")\n",
        "plt.xlabel('Time since start [sec]')\n",
        "plt.ylim(0,170)\n",
        "plt.show()"
      ]
    },
    {
      "cell_type": "code",
      "execution_count": null,
      "metadata": {
        "colab": {
          "base_uri": "https://localhost:8080/",
          "height": 505
        },
        "id": "JJEbI_wT0edk",
        "outputId": "e8fbdff0-8967-4272-b59e-a3045caf3098"
      },
      "outputs": [],
      "source": [
        "plt.rcParams[\"figure.figsize\"] = [6, 2] \n",
        "rawx_stats[['Jamming Indiator [0-255]', 'Jamming State','L1 Automatic Gain Control [dB]','Average CNO Ratio']].plot()\n",
        "plt.title('U-blox L1 Signal Metrics (2)', fontweight =\"bold\")\n",
        "plt.xlabel('Time since start [sec]')\n",
        "plt.ylim(0,200)\n",
        "plt.show()"
      ]
    },
    {
      "cell_type": "code",
      "execution_count": null,
      "metadata": {
        "colab": {
          "base_uri": "https://localhost:8080/",
          "height": 573
        },
        "id": "1c7LpHu1udDh",
        "outputId": "c0df1a9c-600e-42a3-8740-04dce51d7a67"
      },
      "outputs": [],
      "source": [
        "plt.rcParams['figure.dpi'] = 250\n",
        "plt.rcParams[\"figure.figsize\"] = [6.0, 4.0] \n",
        "# Plot time data\n",
        "fig, axes = plt.subplots(2, 1)\n",
        "rawx_stats[['Receiver TOW [Min]','Average Lock Time [sec]','Clock Bias [0.1 ms]','Average CNO Ratio']].plot(ax = axes[0])\n",
        "axes[0].set_title('U-blox L1 Signal Metrics', fontweight =\"bold\")\n",
        "plt.xlabel('Time since start [sec]')\n",
        "\n",
        "axes[0].set_xlim(-60,len(msg_collection[12])-60)\n",
        "axes[0].set_ylim(-15,150)\n",
        "\n",
        "# Plot meta data\n",
        "rawx_stats[['Satellite Count','Mean Psuedorange Stdv [meter]','Spoof Detect State']].plot(ax = axes[1])\n",
        "#plt.title('U-blox L1 Signal Metrics', fontweight =\"bold\")\n",
        "plt.xlabel('Time since start [sec]')\n",
        "axes[1].set_xlim(-60,len(msg_collection[12])-60)\n",
        "axes[1].set_ylim(0,20)\n",
        "# Mark spoofing secions\n",
        "for axe in axes:\n",
        "    for i in range(-50,1200,400):\n",
        "        axe.axvspan(i, i+200, facecolor='gray', alpha=0.3)\n",
        "plt.show()\n"
      ]
    },
    {
      "cell_type": "markdown",
      "metadata": {
        "id": "9jfCYvv3-NSL"
      },
      "source": [
        "# SFRBX DATA - OSNMA"
      ]
    },
    {
      "cell_type": "markdown",
      "metadata": {
        "id": "am0PADqHrNo6"
      },
      "source": [
        "## Testing\n"
      ]
    },
    {
      "cell_type": "code",
      "execution_count": null,
      "metadata": {
        "colab": {
          "base_uri": "https://localhost:8080/"
        },
        "id": "xP2WDMHWonxF",
        "outputId": "4dcd8b19-f6cc-4ec2-8b74-badee06209c4"
      },
      "outputs": [],
      "source": [
        "\n",
        "folder = 'C:/Users/A413626/Desktop/GNSS_stuff/GNSS_Binary/21-03-2022_data/'\n",
        "\n",
        "# Iterate through all recorded runs\n",
        "for run in range(1,50):\n",
        "  print(\"\\n\",run,\"\\n\")\n",
        "  filename = '{}21-03-2022_{}.csv'.format(folder,str(run))\n",
        "  msg_collection, mesages= load_data(filename)\n",
        "  signal_info = signal_process.read_live_data(msg_collection)\n",
        "  osnma_instance, osnma_results = OSNMA.run_osnma(msg_collection)\n",
        "  print(signal_info)\n",
        "  print(osnma_results)"
      ]
    },
    {
      "cell_type": "code",
      "execution_count": null,
      "metadata": {
        "colab": {
          "base_uri": "https://localhost:8080/"
        },
        "id": "Snvwi1AKtF33",
        "outputId": "f7cd6edb-c7d8-4576-ce18-25837cbe9133"
      },
      "outputs": [],
      "source": [
        "segment_id = 5\n",
        "folder = 'C:/Users/A413626/Desktop/GNSS_stuff/GNSS_Binary/21-03-2022_data/'\n",
        "filename = '{}21-03-2022_{}.csv'.format(folder,str(segment_id))\n",
        "msg_collection, mesages= load_data(filename)\n",
        "signal_info = signal_process.read_live_data(msg_collection)\n",
        "osnma_instance, osnma_results = OSNMA.run_osnma(msg_collection)\n",
        "print(signal_info)\n",
        "print(osnma_results)\n"
      ]
    },
    {
      "cell_type": "code",
      "execution_count": null,
      "metadata": {
        "colab": {
          "base_uri": "https://localhost:8080/"
        },
        "id": "kmkA2wh9xGX0",
        "outputId": "51135cf7-71f6-4758-adac-20abd79ce85c"
      },
      "outputs": [],
      "source": [
        "import timeit\n",
        "# Start timer\n",
        "timing=np.empty(0)\n",
        "start = timeit.default_timer()\n",
        "runs=1000\n",
        "for j in range(runs):\n",
        "  osnma_instance.auth_tag(1,5)\n",
        "# End timer\n",
        "stop = timeit.default_timer()\n",
        "execution_time = stop - start\n",
        "timing=np.append(timing,execution_time)\n",
        "execution_time=np.mean(timing)\n",
        "print('The time taken is {}s '.format(execution_time/runs))"
      ]
    },
    {
      "cell_type": "markdown",
      "metadata": {
        "id": "_BW3bSoB8uVT"
      },
      "source": [
        "## Time mangement\n",
        "\n"
      ]
    },
    {
      "cell_type": "code",
      "execution_count": null,
      "metadata": {
        "colab": {
          "base_uri": "https://localhost:8080/",
          "height": 513
        },
        "id": "Vt7qzTh5PHs4",
        "outputId": "edb18598-13dc-41b4-d482-2eaf394822e8"
      },
      "outputs": [],
      "source": [
        "osnma_duration = osnma_instance.get_duration()[0]\n",
        "time_instance, df, time_info,time_fig = time_mangement.run_time(osnma_instance,msg_collection,max_dur=osnma_duration,plot=True)\n",
        "print(time_info)\n",
        "plt.show()"
      ]
    },
    {
      "cell_type": "code",
      "execution_count": null,
      "metadata": {
        "id": "U27VwxYsdTzE"
      },
      "outputs": [],
      "source": [
        "df_sampled= df.iloc[::5, :]\n",
        "for i in range(0,len(df_sampled),50):\n",
        "  display(df_sampled[i:i+50])"
      ]
    },
    {
      "cell_type": "markdown",
      "metadata": {
        "id": "5p6gyGXUlzRQ"
      },
      "source": [
        "## Warm OSNMA - Time to first fix (authenticated)\n",
        "\n",
        "Rough calculation time (3000 messages)\n",
        "\n",
        "*   49 ms, process_Pages(msg_collection,3000) - process u-blox data, format to pandas dataframe, filter out OSNMA data\n",
        "*   4 ms, authenticate_DS(msg_hex,public_key_hex,signature_hex) - ECDSA authentcation\n",
        "*   80 ms, OSNMA(msg_collection) - Process data, locate root key and do ECDSA authentcation\n",
        "\n",
        "*   0.6 ms, osnma_instance.auth_chain(0,1) - authentcate chain key with id age 165, perform 165 sha-256 hashes\n",
        "*   0.5 ms, osnma_instance.auth_tag(0,1) - authentcate tag by locating subframes and performing HMAC authentication \n",
        "\n"
      ]
    },
    {
      "cell_type": "code",
      "execution_count": null,
      "metadata": {
        "id": "DLsdGXQXhQnL"
      },
      "outputs": [],
      "source": [
        "def hot_start_valid(osnma_instance,tag_auth=True): \n",
        "  for index in range(osnma_instance.osnma_sat_count):\n",
        "    sat_prn, sub_count = osnma_instance.get_OSNMA_prn(index)\n",
        "    for i in range(1,sub_count):\n",
        "      # Authenticate sub-frame\n",
        "      try:\n",
        "        chain_ok=osnma_instance.auth_chain(index,i)\n",
        "        if tag_auth:\n",
        "          tag_ok = osnma_instance.auth_tag(index,i)\n",
        "        else: tag_ok = True\n",
        "        if chain_ok and tag_ok:\n",
        "          return True\n",
        "      except: continue\n",
        "  return False\n",
        "\n",
        "folder = 'C:/Users/A413626/Desktop/GNSS_stuff/GNSS_Binary/21-03-2022_data/'\n",
        "# Resolution around 10 seconds\n",
        "start_time = []\n",
        "max_msg = 2500\n",
        "# Iterate through all recorded runs\n",
        "for run in range(50):\n",
        "  filename = '{}21-03-2022_{}.csv'.format(folder,str(run))\n",
        "  msg_collection, mesages= load_data(filename)\n",
        "  # Attempt to get root key with fewest messages\n",
        "  for msg_count in range(500,max_msg,50):\n",
        "    osnma_instance = OSNMA(msg_collection,msg_count)\n",
        "    # Check if root key is found\n",
        "    if osnma_instance.data_good and osnma_instance.kroot_good:\n",
        "        # Record duration\n",
        "        warm_fix_time = osnma_instance.get_duration()[0]\n",
        "        # Attempt to get hot start fix with fewest messages\n",
        "        for min_msg in range(200,max_msg//2,50):\n",
        "         osnma_instance.process_Pages(msg_collection,min_msg)\n",
        "         # Proceed if data is good\n",
        "         if osnma_instance.data_good:\n",
        "           if hot_start_valid(osnma_instance,tag_auth=True):\n",
        "             # Record hot fix time and exit\n",
        "             hot_fix_time = osnma_instance.get_duration()[0]\n",
        "             break\n",
        "        gal_sats=len(osnma_instance.PRN_pages)\n",
        "        gal_sats_OSMA=len(osnma_instance.sats_OSNMA_df)\n",
        "        # Add fix times and exit\n",
        "        start_time.append([warm_fix_time,hot_fix_time,gal_sats,gal_sats_OSMA])\n",
        "        break\n",
        "  # If no root key is found add time as 0,0\n",
        "  if not osnma_instance.kroot_good:\n",
        "    start_time.append([0,0,gal_sats,gal_sats_OSMA])\n",
        "df =pd.DataFrame(start_time,columns=[\"Warm Start\",\"Hot Start\",\"Galileo Satellites\",\"Transmitting OSNMA\"])\n",
        "df.to_csv(\"21-03-2022_fix_times_updated\")\n",
        "df"
      ]
    },
    {
      "cell_type": "code",
      "execution_count": null,
      "metadata": {
        "id": "AHu3mcqj6U-2"
      },
      "outputs": [],
      "source": [
        "# Plot data\n",
        "\n",
        "fig, axes = plt.subplots(1, 1)\n",
        "\n",
        "font = {'family' : 'DejaVu Sans',\n",
        "        'weight' : 'normal',\n",
        "        'size'   : 7}\n",
        "plt.rc('font', **font)\n",
        "plt.rcParams['figure.dpi'] = 220\n",
        "df[[\"Warm Start\",\"Hot Start\"]].plot(ax = axes,style='.-')\n",
        "plt.title('OSNMA Authentication Time', fontweight =\"bold\")\n",
        "plt.xlabel('Run Segment')\n",
        "plt.ylabel('The Time To First Fix (TTFF)')\n",
        "for i in range(2,50,20):\n",
        "    axes.axvspan(i, i+10, facecolor='g', alpha=0.3)\n",
        "plt.ylim(0,400)\n",
        "plt.show()"
      ]
    },
    {
      "cell_type": "code",
      "execution_count": null,
      "metadata": {
        "id": "BOJsvIJ3gCm8"
      },
      "outputs": [],
      "source": [
        "# Plot time data\n",
        "fig, axes = plt.subplots(2, 1)\n",
        "df[[\"Warm Start\",\"Hot Start\"]].plot(ax = axes[0])\n",
        "axes[0].set_title('OSNMA Authentication Time', fontweight =\"bold\")\n",
        "plt.xlabel('Run Segment')\n",
        "axes[0].set_ylabel('The Time To First Fix (TTFF)')\n",
        "# Mark spoofing secions\n",
        "for i in range(2,50,20):\n",
        "    axes[0].axvspan(i, i+10, facecolor='g', alpha=0.3)\n",
        "axes[0].set_ylim(0,430)\n",
        "\n",
        "# Plot meta data\n",
        "df[[\"Galileo Satellites\",\"Transmitting OSNMA\"]].plot(ax = axes[1])\n",
        "#plt.title('U-blox L1 Signal Metrics', fontweight =\"bold\")\n",
        "plt.ylabel('Satellite Connected')\n",
        "# Mark spoofing secions\n",
        "for i in range(2,50,20):\n",
        "    axes[1].axvspan(i, i+10, facecolor='g', alpha=0.3)\n",
        "plt.ylim(0,10)\n",
        "fig.patch.set_alpha(1)\n",
        "plt.show()"
      ]
    }
  ],
  "metadata": {
    "colab": {
      "collapsed_sections": [
        "167eE_FOypx2",
        "GfsY5mx-m2cC",
        "hAJ8-orhhtOE",
        "e_H8f2aHKAmm",
        "mOoqMf8gK_Em",
        "am0PADqHrNo6",
        "_BW3bSoB8uVT",
        "5p6gyGXUlzRQ"
      ],
      "name": "Real-time U-blox mk4 (Complete).ipynb",
      "provenance": []
    },
    "kernelspec": {
      "display_name": "Python 3",
      "name": "python3"
    },
    "language_info": {
      "codemirror_mode": {
        "name": "ipython",
        "version": 3
      },
      "file_extension": ".py",
      "mimetype": "text/x-python",
      "name": "python",
      "nbconvert_exporter": "python",
      "pygments_lexer": "ipython3",
      "version": "3.9.10"
    },
    "widgets": {
      "application/vnd.jupyter.widget-state+json": {
        "164ac38455af4ae4ae2ecf698e7edddb": {
          "model_module": "@jupyter-widgets/controls",
          "model_module_version": "1.5.0",
          "model_name": "DescriptionStyleModel",
          "state": {
            "_model_module": "@jupyter-widgets/controls",
            "_model_module_version": "1.5.0",
            "_model_name": "DescriptionStyleModel",
            "_view_count": null,
            "_view_module": "@jupyter-widgets/base",
            "_view_module_version": "1.2.0",
            "_view_name": "StyleView",
            "description_width": ""
          }
        },
        "1f2f8d4651614d68891f6d67ee2fdcb2": {
          "model_module": "@jupyter-widgets/base",
          "model_module_version": "1.2.0",
          "model_name": "LayoutModel",
          "state": {
            "_model_module": "@jupyter-widgets/base",
            "_model_module_version": "1.2.0",
            "_model_name": "LayoutModel",
            "_view_count": null,
            "_view_module": "@jupyter-widgets/base",
            "_view_module_version": "1.2.0",
            "_view_name": "LayoutView",
            "align_content": null,
            "align_items": null,
            "align_self": null,
            "border": null,
            "bottom": null,
            "display": null,
            "flex": null,
            "flex_flow": null,
            "grid_area": null,
            "grid_auto_columns": null,
            "grid_auto_flow": null,
            "grid_auto_rows": null,
            "grid_column": null,
            "grid_gap": null,
            "grid_row": null,
            "grid_template_areas": null,
            "grid_template_columns": null,
            "grid_template_rows": null,
            "height": null,
            "justify_content": null,
            "justify_items": null,
            "left": null,
            "margin": null,
            "max_height": null,
            "max_width": null,
            "min_height": null,
            "min_width": null,
            "object_fit": null,
            "object_position": null,
            "order": null,
            "overflow": null,
            "overflow_x": null,
            "overflow_y": null,
            "padding": null,
            "right": null,
            "top": null,
            "visibility": null,
            "width": null
          }
        },
        "20c45bbe30b4438c81ec71c2f66e23be": {
          "model_module": "@jupyter-widgets/controls",
          "model_module_version": "1.5.0",
          "model_name": "FloatProgressModel",
          "state": {
            "_dom_classes": [],
            "_model_module": "@jupyter-widgets/controls",
            "_model_module_version": "1.5.0",
            "_model_name": "FloatProgressModel",
            "_view_count": null,
            "_view_module": "@jupyter-widgets/controls",
            "_view_module_version": "1.5.0",
            "_view_name": "ProgressView",
            "bar_style": "",
            "description": "",
            "description_tooltip": null,
            "layout": "IPY_MODEL_6b486881a748477a9069fe07fa80bb39",
            "max": 60000,
            "min": 0,
            "orientation": "horizontal",
            "style": "IPY_MODEL_e133c2190dcd418ebac2b7117ee7a302",
            "value": 31805
          }
        },
        "28ca3d891ce64a13a6130ad358d120df": {
          "model_module": "@jupyter-widgets/controls",
          "model_module_version": "1.5.0",
          "model_name": "HTMLModel",
          "state": {
            "_dom_classes": [],
            "_model_module": "@jupyter-widgets/controls",
            "_model_module_version": "1.5.0",
            "_model_name": "HTMLModel",
            "_view_count": null,
            "_view_module": "@jupyter-widgets/controls",
            "_view_module_version": "1.5.0",
            "_view_name": "HTMLView",
            "description": "",
            "description_tooltip": null,
            "layout": "IPY_MODEL_1f2f8d4651614d68891f6d67ee2fdcb2",
            "placeholder": "​",
            "style": "IPY_MODEL_e27fd4be6fc742028a29eac172fb8b94",
            "value": " 53%"
          }
        },
        "32877e7e54ae46fda7be9cd36820e2e1": {
          "model_module": "@jupyter-widgets/controls",
          "model_module_version": "1.5.0",
          "model_name": "TextareaModel",
          "state": {
            "_dom_classes": [],
            "_model_module": "@jupyter-widgets/controls",
            "_model_module_version": "1.5.0",
            "_model_name": "TextareaModel",
            "_view_count": null,
            "_view_module": "@jupyter-widgets/controls",
            "_view_module_version": "1.5.0",
            "_view_name": "TextareaView",
            "continuous_update": true,
            "description": "",
            "description_tooltip": null,
            "disabled": false,
            "layout": "IPY_MODEL_d8fb4eeac5b849bf8ea1c008cbee8895",
            "placeholder": "​",
            "rows": null,
            "style": "IPY_MODEL_164ac38455af4ae4ae2ecf698e7edddb",
            "value": " [' agcCnt_01=5967', ' agcCnt_01=5967', ' agcCnt_01=5967', ' agcCnt_01=5967', ' agcCnt_01=5967'] \n [' jamInd_01=13', ' jamInd_01=12', ' jamInd_01=11', ' jamInd_01=11', ' jamInd_01=14']\n [' jammingState_01=1', ' jammingState_01=1', ' jammingState_01=1', ' jammingState_01=1', ' jammingState_01=1']\n [' spoofDetState=1', ' spoofDetState=1', ' spoofDetState=1', ' spoofDetState=1', ' spoofDetState=1']\n [' clkB=7350', ' clkB=6424', ' clkB=5498', ' clkB=4572', ' clkB=3646']\n Time: 136724,  iTOW=13:58:26\n Position: lat=57.71741117 lon=11.92124367\n \nAverage CNO (L1): 42.2\nAverage Lock duration (L1): 47220.0\n\nSatellites Connected:['GPS, 18', 'Galileo, 13']\n Of which L1/E1: ['GPS, 9', 'Galileo, 6']\nNumber of Messages: 993"
          }
        },
        "382269fd2c264ffbbb54ec3ac7d39d4c": {
          "model_module": "@jupyter-widgets/controls",
          "model_module_version": "1.5.0",
          "model_name": "DescriptionStyleModel",
          "state": {
            "_model_module": "@jupyter-widgets/controls",
            "_model_module_version": "1.5.0",
            "_model_name": "DescriptionStyleModel",
            "_view_count": null,
            "_view_module": "@jupyter-widgets/base",
            "_view_module_version": "1.2.0",
            "_view_name": "StyleView",
            "description_width": ""
          }
        },
        "4aee3d1b4a1d43dbb3534dc53bec4010": {
          "model_module": "@jupyter-widgets/base",
          "model_module_version": "1.2.0",
          "model_name": "LayoutModel",
          "state": {
            "_model_module": "@jupyter-widgets/base",
            "_model_module_version": "1.2.0",
            "_model_name": "LayoutModel",
            "_view_count": null,
            "_view_module": "@jupyter-widgets/base",
            "_view_module_version": "1.2.0",
            "_view_name": "LayoutView",
            "align_content": null,
            "align_items": null,
            "align_self": null,
            "border": null,
            "bottom": null,
            "display": null,
            "flex": null,
            "flex_flow": null,
            "grid_area": null,
            "grid_auto_columns": null,
            "grid_auto_flow": null,
            "grid_auto_rows": null,
            "grid_column": null,
            "grid_gap": null,
            "grid_row": null,
            "grid_template_areas": null,
            "grid_template_columns": null,
            "grid_template_rows": null,
            "height": null,
            "justify_content": null,
            "justify_items": null,
            "left": null,
            "margin": null,
            "max_height": null,
            "max_width": null,
            "min_height": null,
            "min_width": null,
            "object_fit": null,
            "object_position": null,
            "order": null,
            "overflow": null,
            "overflow_x": null,
            "overflow_y": null,
            "padding": null,
            "right": null,
            "top": null,
            "visibility": null,
            "width": null
          }
        },
        "6b486881a748477a9069fe07fa80bb39": {
          "model_module": "@jupyter-widgets/base",
          "model_module_version": "1.2.0",
          "model_name": "LayoutModel",
          "state": {
            "_model_module": "@jupyter-widgets/base",
            "_model_module_version": "1.2.0",
            "_model_name": "LayoutModel",
            "_view_count": null,
            "_view_module": "@jupyter-widgets/base",
            "_view_module_version": "1.2.0",
            "_view_name": "LayoutView",
            "align_content": null,
            "align_items": null,
            "align_self": null,
            "border": null,
            "bottom": null,
            "display": null,
            "flex": null,
            "flex_flow": null,
            "grid_area": null,
            "grid_auto_columns": null,
            "grid_auto_flow": null,
            "grid_auto_rows": null,
            "grid_column": null,
            "grid_gap": null,
            "grid_row": null,
            "grid_template_areas": null,
            "grid_template_columns": null,
            "grid_template_rows": null,
            "height": null,
            "justify_content": null,
            "justify_items": null,
            "left": null,
            "margin": null,
            "max_height": null,
            "max_width": null,
            "min_height": null,
            "min_width": null,
            "object_fit": null,
            "object_position": null,
            "order": null,
            "overflow": null,
            "overflow_x": null,
            "overflow_y": null,
            "padding": null,
            "right": null,
            "top": null,
            "visibility": null,
            "width": null
          }
        },
        "7eb7eec3fc3b46e681d7826a1f024c98": {
          "model_module": "@jupyter-widgets/controls",
          "model_module_version": "1.5.0",
          "model_name": "HTMLModel",
          "state": {
            "_dom_classes": [],
            "_model_module": "@jupyter-widgets/controls",
            "_model_module_version": "1.5.0",
            "_model_name": "HTMLModel",
            "_view_count": null,
            "_view_module": "@jupyter-widgets/controls",
            "_view_module_version": "1.5.0",
            "_view_name": "HTMLView",
            "description": "",
            "description_tooltip": null,
            "layout": "IPY_MODEL_aad12f042e8c41c0a4bb17c393b23c4c",
            "placeholder": "​",
            "style": "IPY_MODEL_a23502c53e07455e919b8f5e98fbdaad",
            "value": " 31805/60000 [16:50&lt;10:15, 45.80it/s]"
          }
        },
        "7ef05d902f67418e92581db8d2d54ff3": {
          "model_module": "@jupyter-widgets/controls",
          "model_module_version": "1.5.0",
          "model_name": "HBoxModel",
          "state": {
            "_dom_classes": [],
            "_model_module": "@jupyter-widgets/controls",
            "_model_module_version": "1.5.0",
            "_model_name": "HBoxModel",
            "_view_count": null,
            "_view_module": "@jupyter-widgets/controls",
            "_view_module_version": "1.5.0",
            "_view_name": "HBoxView",
            "box_style": "",
            "children": [
              "IPY_MODEL_28ca3d891ce64a13a6130ad358d120df",
              "IPY_MODEL_20c45bbe30b4438c81ec71c2f66e23be",
              "IPY_MODEL_7eb7eec3fc3b46e681d7826a1f024c98"
            ],
            "layout": "IPY_MODEL_4aee3d1b4a1d43dbb3534dc53bec4010"
          }
        },
        "94773498009b411e94b414e6287c18af": {
          "model_module": "@jupyter-widgets/controls",
          "model_module_version": "1.5.0",
          "model_name": "TextareaModel",
          "state": {
            "_dom_classes": [],
            "_model_module": "@jupyter-widgets/controls",
            "_model_module_version": "1.5.0",
            "_model_name": "TextareaModel",
            "_view_count": null,
            "_view_module": "@jupyter-widgets/controls",
            "_view_module_version": "1.5.0",
            "_view_name": "TextareaView",
            "continuous_update": true,
            "description": "",
            "description_tooltip": null,
            "disabled": false,
            "layout": "IPY_MODEL_be1ad23abf2543b0a495ed74a8046623",
            "placeholder": "​",
            "rows": null,
            "style": "IPY_MODEL_382269fd2c264ffbbb54ec3ac7d39d4c",
            "value": ""
          }
        },
        "a23502c53e07455e919b8f5e98fbdaad": {
          "model_module": "@jupyter-widgets/controls",
          "model_module_version": "1.5.0",
          "model_name": "DescriptionStyleModel",
          "state": {
            "_model_module": "@jupyter-widgets/controls",
            "_model_module_version": "1.5.0",
            "_model_name": "DescriptionStyleModel",
            "_view_count": null,
            "_view_module": "@jupyter-widgets/base",
            "_view_module_version": "1.2.0",
            "_view_name": "StyleView",
            "description_width": ""
          }
        },
        "aad12f042e8c41c0a4bb17c393b23c4c": {
          "model_module": "@jupyter-widgets/base",
          "model_module_version": "1.2.0",
          "model_name": "LayoutModel",
          "state": {
            "_model_module": "@jupyter-widgets/base",
            "_model_module_version": "1.2.0",
            "_model_name": "LayoutModel",
            "_view_count": null,
            "_view_module": "@jupyter-widgets/base",
            "_view_module_version": "1.2.0",
            "_view_name": "LayoutView",
            "align_content": null,
            "align_items": null,
            "align_self": null,
            "border": null,
            "bottom": null,
            "display": null,
            "flex": null,
            "flex_flow": null,
            "grid_area": null,
            "grid_auto_columns": null,
            "grid_auto_flow": null,
            "grid_auto_rows": null,
            "grid_column": null,
            "grid_gap": null,
            "grid_row": null,
            "grid_template_areas": null,
            "grid_template_columns": null,
            "grid_template_rows": null,
            "height": null,
            "justify_content": null,
            "justify_items": null,
            "left": null,
            "margin": null,
            "max_height": null,
            "max_width": null,
            "min_height": null,
            "min_width": null,
            "object_fit": null,
            "object_position": null,
            "order": null,
            "overflow": null,
            "overflow_x": null,
            "overflow_y": null,
            "padding": null,
            "right": null,
            "top": null,
            "visibility": null,
            "width": null
          }
        },
        "be1ad23abf2543b0a495ed74a8046623": {
          "model_module": "@jupyter-widgets/base",
          "model_module_version": "1.2.0",
          "model_name": "LayoutModel",
          "state": {
            "_model_module": "@jupyter-widgets/base",
            "_model_module_version": "1.2.0",
            "_model_name": "LayoutModel",
            "_view_count": null,
            "_view_module": "@jupyter-widgets/base",
            "_view_module_version": "1.2.0",
            "_view_name": "LayoutView",
            "align_content": null,
            "align_items": null,
            "align_self": null,
            "border": null,
            "bottom": null,
            "display": null,
            "flex": null,
            "flex_flow": null,
            "grid_area": null,
            "grid_auto_columns": null,
            "grid_auto_flow": null,
            "grid_auto_rows": null,
            "grid_column": null,
            "grid_gap": null,
            "grid_row": null,
            "grid_template_areas": null,
            "grid_template_columns": null,
            "grid_template_rows": null,
            "height": "350px",
            "justify_content": null,
            "justify_items": null,
            "left": null,
            "margin": null,
            "max_height": null,
            "max_width": null,
            "min_height": null,
            "min_width": null,
            "object_fit": null,
            "object_position": null,
            "order": null,
            "overflow": null,
            "overflow_x": null,
            "overflow_y": null,
            "padding": null,
            "right": null,
            "top": null,
            "visibility": null,
            "width": "50%"
          }
        },
        "d8fb4eeac5b849bf8ea1c008cbee8895": {
          "model_module": "@jupyter-widgets/base",
          "model_module_version": "1.2.0",
          "model_name": "LayoutModel",
          "state": {
            "_model_module": "@jupyter-widgets/base",
            "_model_module_version": "1.2.0",
            "_model_name": "LayoutModel",
            "_view_count": null,
            "_view_module": "@jupyter-widgets/base",
            "_view_module_version": "1.2.0",
            "_view_name": "LayoutView",
            "align_content": null,
            "align_items": null,
            "align_self": null,
            "border": null,
            "bottom": null,
            "display": null,
            "flex": null,
            "flex_flow": null,
            "grid_area": null,
            "grid_auto_columns": null,
            "grid_auto_flow": null,
            "grid_auto_rows": null,
            "grid_column": null,
            "grid_gap": null,
            "grid_row": null,
            "grid_template_areas": null,
            "grid_template_columns": null,
            "grid_template_rows": null,
            "height": "240px",
            "justify_content": null,
            "justify_items": null,
            "left": null,
            "margin": null,
            "max_height": null,
            "max_width": null,
            "min_height": null,
            "min_width": null,
            "object_fit": null,
            "object_position": null,
            "order": null,
            "overflow": null,
            "overflow_x": null,
            "overflow_y": null,
            "padding": null,
            "right": null,
            "top": null,
            "visibility": null,
            "width": "50%"
          }
        },
        "e133c2190dcd418ebac2b7117ee7a302": {
          "model_module": "@jupyter-widgets/controls",
          "model_module_version": "1.5.0",
          "model_name": "ProgressStyleModel",
          "state": {
            "_model_module": "@jupyter-widgets/controls",
            "_model_module_version": "1.5.0",
            "_model_name": "ProgressStyleModel",
            "_view_count": null,
            "_view_module": "@jupyter-widgets/base",
            "_view_module_version": "1.2.0",
            "_view_name": "StyleView",
            "bar_color": null,
            "description_width": ""
          }
        },
        "e27fd4be6fc742028a29eac172fb8b94": {
          "model_module": "@jupyter-widgets/controls",
          "model_module_version": "1.5.0",
          "model_name": "DescriptionStyleModel",
          "state": {
            "_model_module": "@jupyter-widgets/controls",
            "_model_module_version": "1.5.0",
            "_model_name": "DescriptionStyleModel",
            "_view_count": null,
            "_view_module": "@jupyter-widgets/base",
            "_view_module_version": "1.2.0",
            "_view_name": "StyleView",
            "description_width": ""
          }
        }
      }
    }
  },
  "nbformat": 4,
  "nbformat_minor": 0
}
